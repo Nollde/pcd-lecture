{
 "cells": [
  {
   "cell_type": "code",
   "execution_count": 1,
   "id": "929040c2",
   "metadata": {},
   "outputs": [],
   "source": [
    "import numpy as np\n",
    "from matplotlib import pyplot as plt\n",
    "import tensorflow as tf"
   ]
  },
  {
   "cell_type": "code",
   "execution_count": 2,
   "id": "6c92b864",
   "metadata": {},
   "outputs": [],
   "source": [
    "loc_a, scale_a = -0.5, 1.0\n",
    "loc_b, scale_b = 0.5, 1.0\n",
    "\n",
    "a = np.random.normal(loc=loc_a, scale=scale_a, size=(100000,))\n",
    "b = np.random.normal(loc=loc_b, scale=scale_b, size=(100000,))"
   ]
  },
  {
   "cell_type": "code",
   "execution_count": 3,
   "id": "f687f21b",
   "metadata": {},
   "outputs": [
    {
     "data": {
      "image/png": "[encoded data removed]",
      "text/plain": [
       "<Figure size 432x288 with 2 Axes>"
      ]
     },
     "metadata": {
      "needs_background": "light"
     },
     "output_type": "display_data"
    }
   ],
   "source": [
    "fig = plt.figure()\n",
    "gs = fig.add_gridspec(2, 1, hspace=0, height_ratios=[3, 1])\n",
    "(ax1, ax2) = gs.subplots(sharex='col')\n",
    "\n",
    "contents_a, bins_a, _ = ax1.hist(a, bins=np.arange(-4, 4.4, 0.4), alpha=0.5, label=\"Distribution A\")\n",
    "contents_b, bins_b, _ = ax1.hist(b, bins=bins_a, alpha=0.5, label=\"Distribution B\")\n",
    "\n",
    "# only plot x axis\n",
    "ax2.axes.get_yaxis().set_visible(False)\n",
    "\n",
    "ax2.plot(a[:1000], np.zeros_like(a)[:1000], linestyle=\"None\", marker=\"|\", alpha=0.1)\n",
    "ax2.plot(b[:1000], np.zeros_like(b)[:1000], linestyle=\"None\", marker=\"|\", alpha=0.1)\n",
    "\n",
    "ax2.set_xlim([-4, 4])\n",
    "\n",
    "ax1.legend()\n",
    "plt.tight_layout()\n",
    "plt.savefig(\"hists.pdf\")"
   ]
  },
  {
   "cell_type": "code",
   "execution_count": 4,
   "id": "7dbbc75c",
   "metadata": {},
   "outputs": [
    {
     "name": "stderr",
     "output_type": "stream",
     "text": [
      "2022-06-29 09:13:27.939085: I tensorflow/core/platform/cpu_feature_guard.cc:142] This TensorFlow binary is optimized with oneAPI Deep Neural Network Library (oneDNN) to use the following CPU instructions in performance-critical operations:  SSE4.1 SSE4.2 AVX AVX2 FMA\n",
      "To enable them in other operations, rebuild TensorFlow with the appropriate compiler flags.\n"
     ]
    }
   ],
   "source": [
    "model = tf.keras.Sequential(\n",
    "    layers=[\n",
    "        tf.keras.Input(shape=(1,)),\n",
    "        tf.keras.layers.Dense(256, activation=\"relu\"),\n",
    "        tf.keras.layers.Dense(256, activation=\"relu\"),\n",
    "        tf.keras.layers.Dense(256, activation=\"relu\"),\n",
    "        tf.keras.layers.Dense(1),\n",
    "    ]\n",
    ")"
   ]
  },
  {
   "cell_type": "code",
   "execution_count": 5,
   "id": "52114d30",
   "metadata": {},
   "outputs": [],
   "source": [
    "bce = tf.keras.losses.BinaryCrossentropy(from_logits=True)\n",
    "model.compile(optimizer=\"adam\", loss=bce, metrics=[\"accuracy\"])"
   ]
  },
  {
   "cell_type": "code",
   "execution_count": 6,
   "id": "0e8cd8a5",
   "metadata": {},
   "outputs": [
    {
     "name": "stdout",
     "output_type": "stream",
     "text": [
      "Model: \"sequential\"\n",
      "_________________________________________________________________\n",
      "Layer (type)                 Output Shape              Param #   \n",
      "=================================================================\n",
      "dense (Dense)                (None, 256)               512       \n",
      "_________________________________________________________________\n",
      "dense_1 (Dense)              (None, 256)               65792     \n",
      "_________________________________________________________________\n",
      "dense_2 (Dense)              (None, 256)               65792     \n",
      "_________________________________________________________________\n",
      "dense_3 (Dense)              (None, 1)                 257       \n",
      "=================================================================\n",
      "Total params: 132,353\n",
      "Trainable params: 132,353\n",
      "Non-trainable params: 0\n",
      "_________________________________________________________________\n"
     ]
    }
   ],
   "source": [
    "model.summary()"
   ]
  },
  {
   "cell_type": "code",
   "execution_count": 7,
   "id": "dea91457",
   "metadata": {},
   "outputs": [],
   "source": [
    "x = np.concatenate([a, b])\n",
    "y = np.concatenate([np.ones_like(a), np.zeros_like(b)])"
   ]
  },
  {
   "cell_type": "code",
   "execution_count": 8,
   "id": "47253403",
   "metadata": {},
   "outputs": [],
   "source": [
    "p = np.random.permutation(len(x))\n",
    "x, y = x[p], y[p]"
   ]
  },
  {
   "cell_type": "code",
   "execution_count": null,
   "id": "7013e12d",
   "metadata": {},
   "outputs": [
    {
     "name": "stdout",
     "output_type": "stream",
     "text": [
      "Epoch 1/10\n"
     ]
    },
    {
     "name": "stderr",
     "output_type": "stream",
     "text": [
      "2022-06-29 09:13:28.152059: I tensorflow/compiler/mlir/mlir_graph_optimization_pass.cc:116] None of the MLIR optimization passes are enabled (registered 2)\n"
     ]
    },
    {
     "name": "stdout",
     "output_type": "stream",
     "text": [
      " 942/5000 [====>.........................] - ETA: 9s - loss: 0.5913 - accuracy: 0.6619"
     ]
    }
   ],
   "source": [
    "model.fit(x=x, y=y, epochs=10, validation_split=0.2)"
   ]
  },
  {
   "cell_type": "code",
   "execution_count": null,
   "id": "3056147d",
   "metadata": {},
   "outputs": [],
   "source": [
    "x_values = np.arange(-4, 5, 0.01)[:, None]\n",
    "pred = model.predict(x_values)\n",
    "pred_ratio = np.exp(pred)"
   ]
  },
  {
   "cell_type": "code",
   "execution_count": null,
   "id": "160928b9",
   "metadata": {},
   "outputs": [],
   "source": [
    "def gaussian(x, loc, scale):\n",
    "    return 1/np.sqrt(2 * np.pi * scale**2)*np.exp(-(x-loc)**2/(2*scale**2))"
   ]
  },
  {
   "cell_type": "code",
   "execution_count": null,
   "id": "7d2b85be",
   "metadata": {},
   "outputs": [],
   "source": [
    "analytic_ratio = gaussian(x_values, loc=loc_a, scale=scale_a)/ gaussian(x_values, loc=loc_b, scale=scale_b)"
   ]
  },
  {
   "cell_type": "code",
   "execution_count": null,
   "id": "86373833",
   "metadata": {
    "scrolled": true
   },
   "outputs": [],
   "source": [
    "plt.plot(x_values, pred_ratio, label=\"DNN Scale Factor\")\n",
    "plt.plot(x_values, analytic_ratio, label=\"Analytic Solution\")\n",
    "plt.xlabel(\"x\")\n",
    "plt.ylabel(\"y\")\n",
    "plt.legend()\n",
    "plt.savefig(\"dnn_division.pdf\")"
   ]
  },
  {
   "cell_type": "code",
   "execution_count": null,
   "id": "19f503e8",
   "metadata": {},
   "outputs": [],
   "source": [
    "ratio = contents_a / contents_b\n",
    "plt.step(bins_a, np.pad(ratio, (1, 0), 'edge'), label=\"Histogram Division\")\n",
    "plt.plot(x_values, analytic_ratio, label=\"Analytic Solution\")\n",
    "plt.xlabel(\"x\")\n",
    "plt.ylabel(\"y\")\n",
    "plt.legend()\n",
    "plt.savefig(\"histogram_division.pdf\")"
   ]
  },
  {
   "cell_type": "code",
   "execution_count": null,
   "id": "a0e70605",
   "metadata": {},
   "outputs": [],
   "source": [
    "bins_a"
   ]
  },
  {
   "cell_type": "code",
   "execution_count": null,
   "id": "756e721c",
   "metadata": {},
   "outputs": [],
   "source": [
    "contents_a / contents_b"
   ]
  },
  {
   "cell_type": "code",
   "execution_count": null,
   "id": "1e978bdb",
   "metadata": {},
   "outputs": [],
   "source": [
    "plt.step([0, 1], [1, 3])"
   ]
  },
  {
   "cell_type": "code",
   "execution_count": null,
   "id": "b316e634",
   "metadata": {},
   "outputs": [],
   "source": []
  }
 ],
 "metadata": {
  "kernelspec": {
   "display_name": "Python 3 (ipykernel)",
   "language": "python",
   "name": "python3"
  },
  "language_info": {
   "codemirror_mode": {
    "name": "ipython",
    "version": 3
   },
   "file_extension": ".py",
   "mimetype": "text/x-python",
   "name": "python",
   "nbconvert_exporter": "python",
   "pygments_lexer": "ipython3",
   "version": "3.8.8"
  }
 },
 "nbformat": 4,
 "nbformat_minor": 5
}
