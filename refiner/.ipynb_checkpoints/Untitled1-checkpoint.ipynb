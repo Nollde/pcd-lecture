{
 "cells": [
  {
   "cell_type": "code",
   "execution_count": 1,
   "id": "556d1daf",
   "metadata": {},
   "outputs": [],
   "source": [
    "from functools import partial\n",
    "\n",
    "import numpy as np\n",
    "import tensorflow as tf\n",
    "from tensorflow.keras import backend as KTF\n",
    "from tensorflow.keras.optimizers import Adam\n",
    "from matplotlib import pyplot as plt\n",
    "\n",
    "tf.compat.v1.disable_eager_execution()  # gp loss won't work with eager"
   ]
  },
  {
   "cell_type": "code",
   "execution_count": 2,
   "id": "9109bbfc",
   "metadata": {},
   "outputs": [],
   "source": [
    "def energy(inp):\n",
    "    return np.exp(inp)"
   ]
  },
  {
   "cell_type": "code",
   "execution_count": 3,
   "id": "e9394125",
   "metadata": {},
   "outputs": [],
   "source": [
    "x_data = np.random.rand(100000)\n",
    "y_data = energy(x_data)\n",
    "\n",
    "x_sim = x_data - np.pi/10\n",
    "y_sim = y_data\n",
    "\n",
    "p = np.random.permutation(len(x_sim))\n",
    "x_sim, y_sim = x_sim[p], y_sim[p]\n",
    "\n",
    "x_range = np.arange(0, 1, 0.01)"
   ]
  },
  {
   "cell_type": "code",
   "execution_count": 4,
   "id": "226a6490",
   "metadata": {},
   "outputs": [
    {
     "data": {
      "text/plain": [
       "<matplotlib.collections.PathCollection at 0x7fadfe8c51c0>"
      ]
     },
     "execution_count": 4,
     "metadata": {},
     "output_type": "execute_result"
    },
    {
     "data": {
      "image/png": "[encoded data removed]",
      "text/plain": [
       "<Figure size 432x288 with 1 Axes>"
      ]
     },
     "metadata": {
      "needs_background": "light"
     },
     "output_type": "display_data"
    }
   ],
   "source": [
    "plt.scatter(x_sim, y_sim, alpha=0.2)\n",
    "plt.scatter(x_data, y_data, alpha=0.2)"
   ]
  },
  {
   "cell_type": "code",
   "execution_count": 5,
   "id": "710fbca7",
   "metadata": {},
   "outputs": [],
   "source": [
    "# Train regression on simulation\n",
    "model = tf.keras.Sequential(\n",
    "    layers=[\n",
    "        tf.keras.Input(shape=(1,)),\n",
    "        tf.keras.layers.Dense(30, activation=\"relu\"),\n",
    "        tf.keras.layers.Dense(30, activation=\"relu\"),\n",
    "        tf.keras.layers.Dense(1),\n",
    "    ]\n",
    ")\n",
    "model.compile(optimizer=\"adam\", loss=\"mse\", metrics=[\"mse\"])"
   ]
  },
  {
   "cell_type": "code",
   "execution_count": 6,
   "id": "12c2391c",
   "metadata": {},
   "outputs": [
    {
     "name": "stdout",
     "output_type": "stream",
     "text": [
      "Train on 100000 samples\n",
      "Epoch 1/5\n",
      " 12288/100000 [==>...........................] - ETA: 0s - loss: 2.2155 - mse: 2.2155 "
     ]
    },
    {
     "name": "stderr",
     "output_type": "stream",
     "text": [
      "2022-07-04 11:19:29.669550: I tensorflow/core/platform/cpu_feature_guard.cc:142] This TensorFlow binary is optimized with oneAPI Deep Neural Network Library (oneDNN) to use the following CPU instructions in performance-critical operations:  SSE4.1 SSE4.2 AVX AVX2 FMA\n",
      "To enable them in other operations, rebuild TensorFlow with the appropriate compiler flags.\n",
      "2022-07-04 11:19:29.685364: I tensorflow/compiler/mlir/mlir_graph_optimization_pass.cc:196] None of the MLIR optimization passes are enabled (registered 0 passes)\n"
     ]
    },
    {
     "name": "stdout",
     "output_type": "stream",
     "text": [
      "100000/100000 [==============================] - 1s 7us/sample - loss: 0.3133 - mse: 0.3133\n",
      "Epoch 2/5\n",
      "100000/100000 [==============================] - 0s 4us/sample - loss: 1.1911e-04 - mse: 1.1911e-04\n",
      "Epoch 3/5\n",
      "100000/100000 [==============================] - 1s 8us/sample - loss: 5.7895e-05 - mse: 5.7895e-05\n",
      "Epoch 4/5\n",
      "100000/100000 [==============================] - 0s 4us/sample - loss: 3.8560e-05 - mse: 3.8560e-05\n",
      "Epoch 5/5\n",
      "100000/100000 [==============================] - 0s 3us/sample - loss: 2.8782e-05 - mse: 2.8782e-05\n"
     ]
    },
    {
     "data": {
      "text/plain": [
       "<tensorflow.python.keras.callbacks.History at 0x7fadfefb7e80>"
      ]
     },
     "execution_count": 6,
     "metadata": {},
     "output_type": "execute_result"
    }
   ],
   "source": [
    "model.fit(x_sim, y_sim, batch_size=256, epochs=5)"
   ]
  },
  {
   "cell_type": "code",
   "execution_count": 7,
   "id": "a2ee8a53",
   "metadata": {},
   "outputs": [
    {
     "name": "stderr",
     "output_type": "stream",
     "text": [
      "/Users/dennis/anaconda3/envs/python3/lib/python3.8/site-packages/tensorflow/python/keras/engine/training.py:2325: UserWarning: `Model.state_updates` will be removed in a future version. This property should not be used in TensorFlow 2.0, as `updates` are applied automatically.\n",
      "  warnings.warn('`Model.state_updates` will be removed in a future version. '\n"
     ]
    },
    {
     "data": {
      "text/plain": [
       "[<matplotlib.lines.Line2D at 0x7fadff325bb0>]"
      ]
     },
     "execution_count": 7,
     "metadata": {},
     "output_type": "execute_result"
    },
    {
     "data": {
      "image/png": "[encoded data removed]",
      "text/plain": [
       "<Figure size 432x288 with 1 Axes>"
      ]
     },
     "metadata": {
      "needs_background": "light"
     },
     "output_type": "display_data"
    }
   ],
   "source": [
    "plt.plot(x_range, energy(x_range+np.pi/10))\n",
    "plt.plot(x_range, model.predict(x_range))"
   ]
  },
  {
   "cell_type": "code",
   "execution_count": 8,
   "id": "79a2d2e8",
   "metadata": {},
   "outputs": [
    {
     "data": {
      "text/plain": [
       "<matplotlib.lines._AxLine at 0x7fadff346490>"
      ]
     },
     "execution_count": 8,
     "metadata": {},
     "output_type": "execute_result"
    },
    {
     "data": {
      "image/png": "[encoded data removed]",
      "text/plain": [
       "<Figure size 432x288 with 1 Axes>"
      ]
     },
     "metadata": {
      "needs_background": "light"
     },
     "output_type": "display_data"
    }
   ],
   "source": [
    "plt.scatter(y_data, model.predict(x_data))\n",
    "plt.axline((1, 1), (2, 2), color=\"r\")"
   ]
  },
  {
   "cell_type": "code",
   "execution_count": 9,
   "id": "5e2f593c",
   "metadata": {},
   "outputs": [],
   "source": [
    "from tensorflow.keras import layers\n",
    "from tensorflow.keras.models import Model\n",
    "\n",
    "def make_trainable(model, trainable):\n",
    "    \"\"\"Freezes/unfreezes the weights in the given model\"\"\"\n",
    "    for layer in model.layers:\n",
    "        layer.trainable = trainable"
   ]
  },
  {
   "cell_type": "code",
   "execution_count": 10,
   "id": "67d7a866",
   "metadata": {},
   "outputs": [],
   "source": [
    "# define two models\n",
    "\n",
    "def residual_block(x):\n",
    "    # copy tensor to variable called x_skip\n",
    "    x_skip = x\n",
    "    # Layer 1\n",
    "    x = tf.keras.layers.Dense(30)(x)\n",
    "    x = layers.LeakyReLU(alpha=0.1)(x)\n",
    "    # Layer 2\n",
    "    x = tf.keras.layers.Dense(1)(x)\n",
    "    # Add residual\n",
    "    x = tf.keras.layers.Add()([x, x_skip])\n",
    "    x = layers.LeakyReLU(alpha=0.1)(x)\n",
    "    return x\n",
    "\n",
    "# refiner\n",
    "refiner_input = layers.Input(shape=(1))\n",
    "x = residual_block(refiner_input)\n",
    "x = residual_block(x)\n",
    "refiner_output = tf.keras.layers.Dense(1)(x)\n",
    "refiner = Model(refiner_input, refiner_output)\n",
    "\n",
    "# critic\n",
    "critic = tf.keras.Sequential(\n",
    "    layers=[\n",
    "        tf.keras.Input(shape=(1,)),\n",
    "        tf.keras.layers.Dense(30, activation=layers.LeakyReLU(alpha=0.1)),\n",
    "        tf.keras.layers.Dense(30, activation=layers.LeakyReLU(alpha=0.1)),\n",
    "        tf.keras.layers.Dense(1),\n",
    "    ]\n",
    ")"
   ]
  },
  {
   "cell_type": "code",
   "execution_count": 11,
   "id": "c9359dbe",
   "metadata": {},
   "outputs": [
    {
     "name": "stdout",
     "output_type": "stream",
     "text": [
      "[[ 0.02256779]\n",
      " [ 0.0112839 ]\n",
      " [ 0.        ]\n",
      " [-0.66987574]\n",
      " [-1.3397515 ]\n",
      " [-2.0096273 ]]\n"
     ]
    },
    {
     "name": "stderr",
     "output_type": "stream",
     "text": [
      "/Users/dennis/anaconda3/envs/python3/lib/python3.8/site-packages/tensorflow/python/keras/engine/training.py:2325: UserWarning: `Model.state_updates` will be removed in a future version. This property should not be used in TensorFlow 2.0, as `updates` are applied automatically.\n",
      "  warnings.warn('`Model.state_updates` will be removed in a future version. '\n"
     ]
    }
   ],
   "source": [
    "print(refiner.predict([-4, -2, 0, 2, 4, 6]))"
   ]
  },
  {
   "cell_type": "code",
   "execution_count": 12,
   "id": "d1a6263d",
   "metadata": {},
   "outputs": [],
   "source": [
    "def wasserstein_loss(y_true, y_pred):\n",
    "    \"\"\"Use the Kantorovich-Rubinstein duality to approximate the Wasserstein distance.\n",
    "    Hint: The gradient penalty is already implemented.\n",
    "    You just have to construct the substraction by making use of the labels.\n",
    "    You HAVE to make use of the KTF functions.\"\"\"\n",
    "    return KTF.mean(y_true * y_pred)\n",
    "\n",
    "# make trainings model for generator\n",
    "make_trainable(refiner, True)\n",
    "make_trainable(critic, False)  # freeze the critic during the generator training\n",
    "\n",
    "refiner_inp = layers.Input(shape=(1,), name=\"simulation_ref_training\")\n",
    "refiner_training = Model(refiner_inp, critic(refiner(refiner_inp)))\n",
    "\n",
    "refiner_training.compile(\n",
    "    optimizer=Adam(0.0001, beta_1=0.5, beta_2=0.9, decay=0.0),\n",
    "    loss=[wasserstein_loss]\n",
    ")"
   ]
  },
  {
   "cell_type": "code",
   "execution_count": 13,
   "id": "078bbcfd",
   "metadata": {},
   "outputs": [],
   "source": [
    "class UniformLineSampler(tf.keras.layers.Layer):\n",
    "    def __init__(self, batch_size):\n",
    "        super().__init__()\n",
    "        self.batch_size = batch_size\n",
    "\n",
    "    def call(self, inputs, **kwargs):\n",
    "        weights = KTF.random_uniform((32, 1))\n",
    "        return (weights * inputs[0]) + ((1 - weights) * inputs[1])\n",
    "\n",
    "\n",
    "# make trainings model for critic\n",
    "make_trainable(critic, True)  # unfreeze the critic during the critic training\n",
    "make_trainable(refiner, False)  # freeze the refiner during the critic training\n",
    "\n",
    "refiner_inp = layers.Input(shape=(1,), name=\"simulation_critic_training\")\n",
    "critic_inp = layers.Input(shape=(1,), name=\"data_critic_training\")\n",
    "refiner_out = refiner(refiner_inp)\n",
    "critic_out_refined = critic(refiner_out)\n",
    "critic_out_data = critic(critic_inp)\n",
    "\n",
    "averaged_batch = UniformLineSampler(32)(\n",
    "    [critic_inp, refiner_out]\n",
    ")\n",
    "\n",
    "critic_training = Model(\n",
    "    inputs=[refiner_inp, critic_inp],\n",
    "    outputs=[\n",
    "        critic_out_refined,\n",
    "        critic_out_data,\n",
    "        averaged_batch,\n",
    "    ],\n",
    ")\n",
    "\n",
    "def gradient_penalty(y_true, averaged_batch):\n",
    "    \"\"\"Calculates the gradient penalty (for details see arXiv:1704.00028v3).\n",
    "    The 1-Lipschitz constraint for improved WGANs is enforced by adding a term to the loss which penalizes if the gradient norm in the critic unequal to 1\"\"\"\n",
    "    # y_true = dummy values\n",
    "    # y_pred will be avaraged_batch_out\n",
    "    with tf.GradientTape() as t:\n",
    "        t.watch(averaged_batch)\n",
    "        pred = critic(averaged_batch)\n",
    "    gradients = t.gradient(pred, averaged_batch)\n",
    "    gradient_penalty = 0.01 * KTF.square(1 - gradients)\n",
    "    return KTF.mean(gradient_penalty)\n",
    "    \n",
    "gradient_penalty.__name__ = \"gradient_penalty\"\n",
    "critic_training.compile(\n",
    "    optimizer=Adam(0.0001, beta_1=0.5, beta_2=0.9, decay=0.0),\n",
    "    loss=[wasserstein_loss, wasserstein_loss, gradient_penalty],\n",
    ")"
   ]
  },
  {
   "cell_type": "code",
   "execution_count": 14,
   "id": "667b8249",
   "metadata": {},
   "outputs": [
    {
     "name": "stdout",
     "output_type": "stream",
     "text": [
      "epoch:  0\n",
      "refiner [[ 0.        ]\n",
      " [-0.16746894]\n",
      " [-0.33493787]]\n",
      "WARNING:tensorflow:Discrepancy between trainable weights and collected trainable weights, did you set `model.trainable` without calling `model.compile` after ?\n",
      "epoch:  1\n",
      "refiner [[0.07591134]\n",
      " [0.07502359]\n",
      " [0.06710736]]\n",
      "epoch:  2\n",
      "refiner [[0.15985613]\n",
      " [0.15976417]\n",
      " [0.15940206]]\n",
      "epoch:  3\n",
      "refiner [[0.25751385]\n",
      " [0.25961325]\n",
      " [0.26171264]]\n",
      "epoch:  4\n",
      "refiner [[0.37229246]\n",
      " [0.37931204]\n",
      " [0.38633162]]\n",
      "epoch:  5\n",
      "refiner [[0.4697597 ]\n",
      " [0.48515454]\n",
      " [0.5005493 ]]\n",
      "epoch:  6\n",
      "refiner [[0.47727746]\n",
      " [0.502808  ]\n",
      " [0.52833843]]\n",
      "epoch:  7\n",
      "refiner [[0.47407377]\n",
      " [0.51338273]\n",
      " [0.55269176]]\n",
      "epoch:  8\n",
      "refiner [[0.46864352]\n",
      " [0.52690464]\n",
      " [0.58516574]]\n",
      "epoch:  9\n",
      "refiner [[0.46206278]\n",
      " [0.5465174 ]\n",
      " [0.6309719 ]]\n",
      "epoch:  10\n",
      "refiner [[0.45025325]\n",
      " [0.5705069 ]\n",
      " [0.69076043]]\n",
      "epoch:  11\n",
      "refiner [[0.43340585]\n",
      " [0.60264826]\n",
      " [0.7718907 ]]\n",
      "epoch:  12\n",
      "refiner [[0.41631514]\n",
      " [0.6542166 ]\n",
      " [0.8921181 ]]\n",
      "epoch:  13\n",
      "refiner [[0.4237395 ]\n",
      " [0.72790366]\n",
      " [1.0320678 ]]\n",
      "epoch:  14\n",
      "refiner [[0.36454383]\n",
      " [0.7332459 ]\n",
      " [1.101948  ]]\n",
      "epoch:  15\n",
      "refiner [[0.30868047]\n",
      " [0.771179  ]\n",
      " [1.2336775 ]]\n",
      "epoch:  16\n",
      "refiner [[0.26900065]\n",
      " [0.80808485]\n",
      " [1.3471689 ]]\n",
      "epoch:  17\n",
      "refiner [[0.2885147]\n",
      " [0.8115707]\n",
      " [1.3346266]]\n",
      "epoch:  18\n",
      "refiner [[0.29334918]\n",
      " [0.8137077 ]\n",
      " [1.3340663 ]]\n",
      "epoch:  19\n",
      "refiner [[0.2952527]\n",
      " [0.8128968]\n",
      " [1.3305411]]\n",
      "epoch:  20\n",
      "refiner [[0.29705665]\n",
      " [0.8124415 ]\n",
      " [1.3278264 ]]\n",
      "epoch:  21\n",
      "refiner [[0.29925618]\n",
      " [0.811355  ]\n",
      " [1.323454  ]]\n",
      "epoch:  22\n",
      "refiner [[0.30066943]\n",
      " [0.8101145 ]\n",
      " [1.3195597 ]]\n",
      "epoch:  23\n",
      "refiner [[0.30816185]\n",
      " [0.7997657 ]\n",
      " [1.2913696 ]]\n",
      "epoch:  24\n",
      "refiner [[0.31633604]\n",
      " [0.79129165]\n",
      " [1.2662472 ]]\n",
      "epoch:  25\n",
      "refiner [[0.32124314]\n",
      " [0.7869138 ]\n",
      " [1.2525846 ]]\n",
      "epoch:  26\n",
      "refiner [[0.32241902]\n",
      " [0.78755593]\n",
      " [1.2526933 ]]\n",
      "epoch:  27\n",
      "refiner [[0.32209936]\n",
      " [0.7898151 ]\n",
      " [1.2575309 ]]\n",
      "epoch:  28\n",
      "refiner [[0.31781465]\n",
      " [0.79420924]\n",
      " [1.2706034 ]]\n",
      "epoch:  29\n",
      "refiner [[0.3161776]\n",
      " [0.7962562]\n",
      " [1.2763348]]\n"
     ]
    },
    {
     "data": {
      "image/png": "[encoded data removed]",
      "text/plain": [
       "<Figure size 432x288 with 1 Axes>"
      ]
     },
     "metadata": {
      "needs_background": "light"
     },
     "output_type": "display_data"
    }
   ],
   "source": [
    "# for wasserstein loss\n",
    "positive_y = np.ones(32)\n",
    "negative_y = -positive_y\n",
    "dummy = np.zeros(32)\n",
    "\n",
    "# trainings loop\n",
    "N = 100000\n",
    "NCR = 5\n",
    "BATCH_SIZE = 32\n",
    "iterations_per_epoch = N // ((NCR + 1) * BATCH_SIZE)\n",
    "\n",
    "refiner_loss = []\n",
    "critic_loss = []\n",
    "\n",
    "for epoch in range(30):\n",
    "    print(\"epoch: \", epoch)\n",
    "    print(\"refiner\", refiner.predict([0, 0.5, 1.0]))\n",
    "    plt.plot(x_range, critic.predict(x_range))\n",
    "    for iteration in range(iterations_per_epoch):\n",
    "        for j in range(NCR):\n",
    "            # get simulation data for refiner\n",
    "            simulation_batch = x_sim[BATCH_SIZE * (j + iteration) : BATCH_SIZE * (j + iteration + 1)]\n",
    "            # get real data\n",
    "            data_batch = x_data[BATCH_SIZE * (j + iteration) : BATCH_SIZE * (j + iteration + 1)]\n",
    "            \n",
    "            # train critic\n",
    "            _critic_loss = critic_training.train_on_batch(\n",
    "                [simulation_batch, data_batch],\n",
    "                [negative_y, positive_y, dummy]\n",
    "            )\n",
    "            critic_loss.append(_critic_loss)\n",
    "\n",
    "        # refiner training\n",
    "        simulation_batch = x_sim[BATCH_SIZE * (j + iteration) : BATCH_SIZE * (j + iteration + 1)]\n",
    "        _refiner_loss = refiner_training.train_on_batch([simulation_batch], [positive_y])\n",
    "        refiner_loss.append(_refiner_loss)"
   ]
  },
  {
   "cell_type": "code",
   "execution_count": 15,
   "id": "3123b48d",
   "metadata": {},
   "outputs": [
    {
     "data": {
      "text/plain": [
       "Text(0, 0.5, 'Loss')"
      ]
     },
     "execution_count": 15,
     "metadata": {},
     "output_type": "execute_result"
    },
    {
     "data": {
      "image/png": "[encoded data removed]",
      "text/plain": [
       "<Figure size 720x288 with 1 Axes>"
      ]
     },
     "metadata": {
      "needs_background": "light"
     },
     "output_type": "display_data"
    }
   ],
   "source": [
    "# plot critic loss\n",
    "fig, ax1 = plt.subplots(1, figsize=(10, 4))\n",
    "epoch = np.arange(len(critic_loss))\n",
    "loss = np.array(critic_loss)\n",
    "plt.plot(epoch, loss[:, 0], label=\"Total\")\n",
    "plt.plot(epoch, loss[:, 1] + loss[:, 2], label=\"Wasserstein\")\n",
    "plt.plot(epoch, loss[:, 3], label=\"Gradient\")  \n",
    "plt.legend()\n",
    "ax1.set_xlabel(\"Iterations\")\n",
    "ax1.set_ylabel(\"Loss\")"
   ]
  },
  {
   "cell_type": "code",
   "execution_count": 16,
   "id": "d1d2ec98",
   "metadata": {},
   "outputs": [
    {
     "data": {
      "text/plain": [
       "[<matplotlib.lines.Line2D at 0x7fae01975700>]"
      ]
     },
     "execution_count": 16,
     "metadata": {},
     "output_type": "execute_result"
    },
    {
     "data": {
      "image/png": "[encoded data removed]",
      "text/plain": [
       "<Figure size 432x288 with 1 Axes>"
      ]
     },
     "metadata": {
      "needs_background": "light"
     },
     "output_type": "display_data"
    }
   ],
   "source": [
    "# plot critic output\n",
    "plt.plot(x_range, critic.predict(x_range))\n",
    "plt.plot(x_range, (critic.predict(x_range+0.01)-critic.predict(x_range-0.01))/0.02)"
   ]
  },
  {
   "cell_type": "code",
   "execution_count": 17,
   "id": "8ea79e4e",
   "metadata": {},
   "outputs": [
    {
     "data": {
      "text/plain": [
       "Text(0, 0.5, 'Loss')"
      ]
     },
     "execution_count": 17,
     "metadata": {},
     "output_type": "execute_result"
    },
    {
     "data": {
      "image/png": "[encoded data removed]",
      "text/plain": [
       "<Figure size 720x288 with 1 Axes>"
      ]
     },
     "metadata": {
      "needs_background": "light"
     },
     "output_type": "display_data"
    }
   ],
   "source": [
    "# plot refiner loss\n",
    "fig, ax1 = plt.subplots(1, figsize=(10, 4))\n",
    "epoch = np.arange(len(refiner_loss))\n",
    "loss = np.array(refiner_loss)\n",
    "plt.plot(epoch, loss, label=\"Total\")\n",
    "plt.legend()\n",
    "ax1.set_xlabel(\"Iterations\")\n",
    "ax1.set_ylabel(\"Loss\")"
   ]
  },
  {
   "cell_type": "code",
   "execution_count": 18,
   "id": "af8e2ae1",
   "metadata": {
    "scrolled": true
   },
   "outputs": [
    {
     "data": {
      "text/plain": [
       "<matplotlib.collections.PathCollection at 0x7fade3319cd0>"
      ]
     },
     "execution_count": 18,
     "metadata": {},
     "output_type": "execute_result"
    },
    {
     "data": {
      "image/png": "[encoded data removed]",
      "text/plain": [
       "<Figure size 432x288 with 1 Axes>"
      ]
     },
     "metadata": {
      "needs_background": "light"
     },
     "output_type": "display_data"
    }
   ],
   "source": [
    "plt.scatter(x_sim, refiner.predict(x_sim))"
   ]
  },
  {
   "cell_type": "code",
   "execution_count": 19,
   "id": "ea2ca609",
   "metadata": {},
   "outputs": [
    {
     "data": {
      "text/plain": [
       "(array([11518.,  8343.,  9829.,  9802., 10105., 10065., 10118., 10055.,\n",
       "        10146., 10019.]),\n",
       " array([0.00950793, 0.10590523, 0.20230255, 0.29869986, 0.39509717,\n",
       "        0.49149448, 0.58789176, 0.6842891 , 0.7806864 , 0.8770837 ,\n",
       "        0.973481  ], dtype=float32),\n",
       " <BarContainer object of 10 artists>)"
      ]
     },
     "execution_count": 19,
     "metadata": {},
     "output_type": "execute_result"
    },
    {
     "data": {
      "image/png": "[encoded data removed]",
      "text/plain": [
       "<Figure size 432x288 with 1 Axes>"
      ]
     },
     "metadata": {
      "needs_background": "light"
     },
     "output_type": "display_data"
    }
   ],
   "source": [
    "plt.hist(x_data)\n",
    "plt.hist(x_sim)\n",
    "plt.hist(refiner.predict(x_sim))"
   ]
  },
  {
   "cell_type": "code",
   "execution_count": 20,
   "id": "c67df89d",
   "metadata": {},
   "outputs": [],
   "source": [
    "simulation_inp = layers.Input(shape=(1,), name=\"simulation_inp\")\n",
    "refined_simulation_inp = refiner(simulation_inp)\n",
    "model = tf.keras.Sequential(\n",
    "    layers=[\n",
    "        tf.keras.Input(shape=(1,)),\n",
    "        tf.keras.layers.Dense(30, activation=\"relu\"),\n",
    "        tf.keras.layers.Dense(30, activation=\"relu\"),\n",
    "        tf.keras.layers.Dense(1),\n",
    "    ]\n",
    ")\n",
    "\n",
    "model_training = Model(\n",
    "    inputs=simulation_inp,\n",
    "    outputs=model(refined_simulation_inp),\n",
    ")\n",
    "\n",
    "\n",
    "model_training.compile(optimizer=\"adam\", loss=\"mse\", metrics=[\"mse\"])"
   ]
  },
  {
   "cell_type": "code",
   "execution_count": 21,
   "id": "f2cdb598",
   "metadata": {},
   "outputs": [
    {
     "name": "stdout",
     "output_type": "stream",
     "text": [
      "Train on 100000 samples\n",
      "Epoch 1/5\n",
      "100000/100000 [==============================] - 0s 5us/sample - loss: 0.4374 - mse: 0.4374\n",
      "Epoch 2/5\n",
      "100000/100000 [==============================] - 0s 5us/sample - loss: 0.0047 - mse: 0.0047\n",
      "Epoch 3/5\n",
      "100000/100000 [==============================] - 0s 4us/sample - loss: 0.0042 - mse: 0.0042\n",
      "Epoch 4/5\n",
      "100000/100000 [==============================] - 0s 4us/sample - loss: 0.0036 - mse: 0.0036\n",
      "Epoch 5/5\n",
      "100000/100000 [==============================] - 0s 5us/sample - loss: 0.0027 - mse: 0.0027\n"
     ]
    },
    {
     "data": {
      "text/plain": [
       "<tensorflow.python.keras.callbacks.History at 0x7fadffa1ff10>"
      ]
     },
     "execution_count": 21,
     "metadata": {},
     "output_type": "execute_result"
    }
   ],
   "source": [
    "model_training.fit(x_sim, y_sim, batch_size=256, epochs=5)"
   ]
  },
  {
   "cell_type": "code",
   "execution_count": 22,
   "id": "c14f6a14",
   "metadata": {},
   "outputs": [
    {
     "name": "stderr",
     "output_type": "stream",
     "text": [
      "/Users/dennis/anaconda3/envs/python3/lib/python3.8/site-packages/tensorflow/python/keras/engine/training.py:2325: UserWarning: `Model.state_updates` will be removed in a future version. This property should not be used in TensorFlow 2.0, as `updates` are applied automatically.\n",
      "  warnings.warn('`Model.state_updates` will be removed in a future version. '\n"
     ]
    },
    {
     "data": {
      "text/plain": [
       "[<matplotlib.lines.Line2D at 0x7fade27e6d00>]"
      ]
     },
     "execution_count": 22,
     "metadata": {},
     "output_type": "execute_result"
    },
    {
     "data": {
      "image/png": "[encoded data removed]",
      "text/plain": [
       "<Figure size 432x288 with 1 Axes>"
      ]
     },
     "metadata": {
      "needs_background": "light"
     },
     "output_type": "display_data"
    }
   ],
   "source": [
    "plt.plot(x_range, model.predict(x_range))"
   ]
  },
  {
   "cell_type": "code",
   "execution_count": 23,
   "id": "a045a08a",
   "metadata": {},
   "outputs": [
    {
     "data": {
      "text/plain": [
       "<matplotlib.lines._AxLine at 0x7fade280e430>"
      ]
     },
     "execution_count": 23,
     "metadata": {},
     "output_type": "execute_result"
    },
    {
     "data": {
      "image/png": "[encoded data removed]",
      "text/plain": [
       "<Figure size 432x288 with 1 Axes>"
      ]
     },
     "metadata": {
      "needs_background": "light"
     },
     "output_type": "display_data"
    }
   ],
   "source": [
    "plt.scatter(y_data, model.predict(x_data))\n",
    "plt.axline((1, 1), (2, 2), color=\"r\")"
   ]
  },
  {
   "cell_type": "code",
   "execution_count": 24,
   "id": "148859f1",
   "metadata": {},
   "outputs": [
    {
     "data": {
      "text/plain": [
       "array([[-40.286095]], dtype=float32)"
      ]
     },
     "execution_count": 24,
     "metadata": {},
     "output_type": "execute_result"
    }
   ],
   "source": [
    "refiner.predict([-2])"
   ]
  },
  {
   "cell_type": "code",
   "execution_count": 25,
   "id": "19efa8f0",
   "metadata": {},
   "outputs": [
    {
     "name": "stdout",
     "output_type": "stream",
     "text": [
      "Model: \"sequential_1\"\n",
      "_________________________________________________________________\n",
      "Layer (type)                 Output Shape              Param #   \n",
      "=================================================================\n",
      "dense_8 (Dense)              multiple                  60        \n",
      "_________________________________________________________________\n",
      "dense_9 (Dense)              multiple                  930       \n",
      "_________________________________________________________________\n",
      "dense_10 (Dense)             multiple                  31        \n",
      "=================================================================\n",
      "Total params: 1,021\n",
      "Trainable params: 1,021\n",
      "Non-trainable params: 0\n",
      "_________________________________________________________________\n"
     ]
    }
   ],
   "source": [
    "critic.summary()"
   ]
  },
  {
   "cell_type": "code",
   "execution_count": 26,
   "id": "1d3b73c4",
   "metadata": {},
   "outputs": [
    {
     "name": "stdout",
     "output_type": "stream",
     "text": [
      "Model: \"model\"\n",
      "__________________________________________________________________________________________________\n",
      "Layer (type)                    Output Shape         Param #     Connected to                     \n",
      "==================================================================================================\n",
      "input_2 (InputLayer)            [(None, 1)]          0                                            \n",
      "__________________________________________________________________________________________________\n",
      "dense_3 (Dense)                 (None, 30)           60          input_2[0][0]                    \n",
      "__________________________________________________________________________________________________\n",
      "leaky_re_lu (LeakyReLU)         (None, 30)           0           dense_3[0][0]                    \n",
      "__________________________________________________________________________________________________\n",
      "dense_4 (Dense)                 (None, 1)            31          leaky_re_lu[0][0]                \n",
      "__________________________________________________________________________________________________\n",
      "add (Add)                       (None, 1)            0           dense_4[0][0]                    \n",
      "                                                                 input_2[0][0]                    \n",
      "__________________________________________________________________________________________________\n",
      "leaky_re_lu_1 (LeakyReLU)       (None, 1)            0           add[0][0]                        \n",
      "__________________________________________________________________________________________________\n",
      "dense_5 (Dense)                 (None, 30)           60          leaky_re_lu_1[0][0]              \n",
      "__________________________________________________________________________________________________\n",
      "leaky_re_lu_2 (LeakyReLU)       (None, 30)           0           dense_5[0][0]                    \n",
      "__________________________________________________________________________________________________\n",
      "dense_6 (Dense)                 (None, 1)            31          leaky_re_lu_2[0][0]              \n",
      "__________________________________________________________________________________________________\n",
      "add_1 (Add)                     (None, 1)            0           dense_6[0][0]                    \n",
      "                                                                 leaky_re_lu_1[0][0]              \n",
      "__________________________________________________________________________________________________\n",
      "leaky_re_lu_3 (LeakyReLU)       (None, 1)            0           add_1[0][0]                      \n",
      "__________________________________________________________________________________________________\n",
      "dense_7 (Dense)                 (None, 1)            2           leaky_re_lu_3[0][0]              \n",
      "==================================================================================================\n",
      "Total params: 184\n",
      "Trainable params: 0\n",
      "Non-trainable params: 184\n",
      "__________________________________________________________________________________________________\n"
     ]
    }
   ],
   "source": [
    "refiner.summary()"
   ]
  },
  {
   "cell_type": "code",
   "execution_count": 27,
   "id": "90bcfec7",
   "metadata": {},
   "outputs": [
    {
     "name": "stdout",
     "output_type": "stream",
     "text": [
      "Model: \"model_2\"\n",
      "__________________________________________________________________________________________________\n",
      "Layer (type)                    Output Shape         Param #     Connected to                     \n",
      "==================================================================================================\n",
      "simulation_critic_training (Inp [(None, 1)]          0                                            \n",
      "__________________________________________________________________________________________________\n",
      "model (Functional)              (None, 1)            184         simulation_critic_training[0][0] \n",
      "__________________________________________________________________________________________________\n",
      "data_critic_training (InputLaye [(None, 1)]          0                                            \n",
      "__________________________________________________________________________________________________\n",
      "sequential_1 (Sequential)       (None, 1)            1021        model[1][0]                      \n",
      "                                                                 data_critic_training[0][0]       \n",
      "__________________________________________________________________________________________________\n",
      "uniform_line_sampler (UniformLi (32, 1)              0           data_critic_training[0][0]       \n",
      "                                                                 model[1][0]                      \n",
      "==================================================================================================\n",
      "Total params: 1,205\n",
      "Trainable params: 1,021\n",
      "Non-trainable params: 184\n",
      "__________________________________________________________________________________________________\n"
     ]
    }
   ],
   "source": [
    "critic_training.summary()"
   ]
  },
  {
   "cell_type": "code",
   "execution_count": 28,
   "id": "95f2acc4",
   "metadata": {},
   "outputs": [
    {
     "name": "stdout",
     "output_type": "stream",
     "text": [
      "Model: \"model_1\"\n",
      "_________________________________________________________________\n",
      "Layer (type)                 Output Shape              Param #   \n",
      "=================================================================\n",
      "simulation_ref_training (Inp [(None, 1)]               0         \n",
      "_________________________________________________________________\n",
      "model (Functional)           (None, 1)                 184       \n",
      "_________________________________________________________________\n",
      "sequential_1 (Sequential)    (None, 1)                 1021      \n",
      "=================================================================\n",
      "Total params: 368\n",
      "Trainable params: 184\n",
      "Non-trainable params: 184\n",
      "_________________________________________________________________\n"
     ]
    }
   ],
   "source": [
    "refiner_training.summary()"
   ]
  },
  {
   "cell_type": "code",
   "execution_count": null,
   "id": "29bc5a84",
   "metadata": {},
   "outputs": [],
   "source": []
  }
 ],
 "metadata": {
  "kernelspec": {
   "display_name": "Python 3 (ipykernel)",
   "language": "python",
   "name": "python3"
  },
  "language_info": {
   "codemirror_mode": {
    "name": "ipython",
    "version": 3
   },
   "file_extension": ".py",
   "mimetype": "text/x-python",
   "name": "python",
   "nbconvert_exporter": "python",
   "pygments_lexer": "ipython3",
   "version": "3.8.8"
  }
 },
 "nbformat": 4,
 "nbformat_minor": 5
}
