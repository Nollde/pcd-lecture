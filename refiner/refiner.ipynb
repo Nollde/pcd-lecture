{
 "cells": [
  {
   "cell_type": "markdown",
   "id": "336f41ba",
   "metadata": {},
   "source": [
    "# Refiner Tutorial\n",
    "\n",
    "Welcome to the refiner tutorial.\n",
    "\n",
    "## Introduction\n",
    "In this task, we will train a regression to regress the energy of particle physics events (represented by floating point numbers in our toy example). Unfortunately the simulation does not quite fit to the data. Therefore when training the regression on the simulation and evaluating on the data, we will get large biases.\n",
    "\n",
    "The refiner architecture comes to the rescue.\n",
    "With a refiner network between the simulation and the regression task, we will make the simulation more data-like."
   ]
  },
  {
   "cell_type": "markdown",
   "id": "03fca901",
   "metadata": {},
   "source": [
    "First we will do all necessary imports:"
   ]
  },
  {
   "cell_type": "code",
   "execution_count": 1,
   "id": "556d1daf",
   "metadata": {},
   "outputs": [],
   "source": [
    "from functools import partial\n",
    "\n",
    "import numpy as np\n",
    "import tensorflow as tf\n",
    "from tensorflow.keras import backend as KTF\n",
    "from tensorflow.keras.optimizers import Adam\n",
    "from matplotlib import pyplot as plt\n",
    "\n",
    "tf.compat.v1.disable_eager_execution()  # gp loss won't work with eager"
   ]
  },
  {
   "cell_type": "markdown",
   "id": "4004017b",
   "metadata": {},
   "source": [
    "## Response\n",
    "Both our data and the simulation have response functions, how the detector \"reacts\" to the incident particle energy. Unfortunately our simulation does not yet reflect everything what is going on in the real world. To keep things simple, the reponse in the data only has a constant offset which has not yet been accounted in the simulation. If you want you can also try what the refiner does for more different response functions."
   ]
  },
  {
   "cell_type": "code",
   "execution_count": 2,
   "id": "9109bbfc",
   "metadata": {},
   "outputs": [],
   "source": [
    "def response_function_data(inp):\n",
    "    return np.log(inp) + np.pi/10\n",
    "\n",
    "def response_function_sim(inp):\n",
    "    return np.log(inp)"
   ]
  },
  {
   "cell_type": "markdown",
   "id": "3cc088d7",
   "metadata": {},
   "source": [
    "## Generate Data\n",
    "Our incident energies will be floating point numbers between 1 and 2.\n",
    "We create the dataset and split data and simulation into training and validation data."
   ]
  },
  {
   "cell_type": "code",
   "execution_count": 3,
   "id": "e9394125",
   "metadata": {},
   "outputs": [],
   "source": [
    "energy_data = np.random.rand(150000) + 1\n",
    "response_data = response_function_data(energy_data)\n",
    "\n",
    "energy_sim = np.random.rand(150000) + 1\n",
    "response_sim = response_function_sim(energy_sim)\n",
    "\n",
    "response_data_train, energy_data_train = response_data[:100000], energy_data[:100000]\n",
    "response_data_val, energy_data_val = response_data[100000:], energy_data[100000:]\n",
    "\n",
    "response_sim_train, energy_sim_train = response_sim[:100000], energy_sim[:100000]\n",
    "response_sim_val, energy_sim_val = response_sim[100000:], energy_sim[100000:]\n",
    "\n",
    "x_range = np.arange(0, 1, 0.01)"
   ]
  },
  {
   "cell_type": "markdown",
   "id": "49a7bf6f",
   "metadata": {},
   "source": [
    "## Data Inspection\n",
    "Let's inspect our raw data. Knowing that the incident energies in both out data and our simulation are the same we can already see by eye that the modelling of the response of our detector can not be correct."
   ]
  },
  {
   "cell_type": "code",
   "execution_count": 4,
   "id": "226a6490",
   "metadata": {},
   "outputs": [
    {
     "data": {
      "text/plain": [
       "Text(0, 0.5, 'Energy')"
      ]
     },
     "execution_count": 4,
     "metadata": {},
     "output_type": "execute_result"
    },
    {
     "data": {
      "image/png": "[encoded data removed]",
      "text/plain": [
       "<Figure size 432x288 with 1 Axes>"
      ]
     },
     "metadata": {
      "needs_background": "light"
     },
     "output_type": "display_data"
    }
   ],
   "source": [
    "plt.scatter(response_data, energy_data, alpha=0.2, label=\"Data\")\n",
    "plt.scatter(response_sim, energy_sim, alpha=0.2, label=\"Simulation\")\n",
    "plt.legend()\n",
    "plt.xlabel(\"Response\")\n",
    "plt.ylabel(\"Energy\")"
   ]
  },
  {
   "cell_type": "markdown",
   "id": "cb45b651",
   "metadata": {},
   "source": [
    "## Train Regression (without Refinement)\n",
    "Nevertheless we want to infer the energy in our data events. We go ahead and train a regression on the simulation to do this task for us. Using a small DNN and the mean-squared-error as a loss function, our regression converges fast to predict the incident particle energies."
   ]
  },
  {
   "cell_type": "code",
   "execution_count": 5,
   "id": "710fbca7",
   "metadata": {},
   "outputs": [],
   "source": [
    "# Train regression on simulation\n",
    "model = tf.keras.Sequential(\n",
    "    layers=[\n",
    "        tf.keras.Input(shape=(1,)),\n",
    "        tf.keras.layers.Dense(30, activation=\"relu\"),\n",
    "        tf.keras.layers.Dense(30, activation=\"relu\"),\n",
    "        tf.keras.layers.Dense(1),\n",
    "    ]\n",
    ")\n",
    "model.compile(optimizer=\"adam\", loss=\"mse\", metrics=[\"mse\"])"
   ]
  },
  {
   "cell_type": "code",
   "execution_count": 6,
   "id": "12c2391c",
   "metadata": {},
   "outputs": [
    {
     "name": "stdout",
     "output_type": "stream",
     "text": [
      "Train on 100000 samples\n",
      "Epoch 1/5\n",
      " 15104/100000 [===>..........................] - ETA: 0s - loss: 1.4937 - mse: 1.4937 "
     ]
    },
    {
     "name": "stderr",
     "output_type": "stream",
     "text": [
      "2022-07-04 21:48:18.298723: I tensorflow/core/platform/cpu_feature_guard.cc:142] This TensorFlow binary is optimized with oneAPI Deep Neural Network Library (oneDNN) to use the following CPU instructions in performance-critical operations:  SSE4.1 SSE4.2 AVX AVX2 FMA\n",
      "To enable them in other operations, rebuild TensorFlow with the appropriate compiler flags.\n",
      "2022-07-04 21:48:18.311788: I tensorflow/compiler/mlir/mlir_graph_optimization_pass.cc:196] None of the MLIR optimization passes are enabled (registered 0 passes)\n"
     ]
    },
    {
     "name": "stdout",
     "output_type": "stream",
     "text": [
      "100000/100000 [==============================] - 0s 4us/sample - loss: 0.2425 - mse: 0.2425\n",
      "Epoch 2/5\n",
      "100000/100000 [==============================] - 0s 3us/sample - loss: 9.8334e-04 - mse: 9.8334e-04\n",
      "Epoch 3/5\n",
      "100000/100000 [==============================] - 0s 4us/sample - loss: 8.8719e-04 - mse: 8.8719e-04\n",
      "Epoch 4/5\n",
      "100000/100000 [==============================] - 0s 3us/sample - loss: 8.0890e-04 - mse: 8.0890e-04\n",
      "Epoch 5/5\n",
      "100000/100000 [==============================] - 0s 3us/sample - loss: 7.3794e-04 - mse: 7.3794e-04\n"
     ]
    },
    {
     "data": {
      "text/plain": [
       "<tensorflow.python.keras.callbacks.History at 0x7fc0b715dbb0>"
      ]
     },
     "execution_count": 6,
     "metadata": {},
     "output_type": "execute_result"
    }
   ],
   "source": [
    "model.fit(response_sim_train, energy_sim_train, batch_size=256, epochs=5)"
   ]
  },
  {
   "cell_type": "markdown",
   "id": "e48aa387",
   "metadata": {},
   "source": [
    "## Inspecting Regression without Refinement\n",
    "As we can see in the loss, our model well describes the energies in the simulation. However we know that the response function in the data is different. Let's look at how well the network can regress the energy in the data."
   ]
  },
  {
   "cell_type": "code",
   "execution_count": 7,
   "id": "79a2d2e8",
   "metadata": {},
   "outputs": [
    {
     "name": "stderr",
     "output_type": "stream",
     "text": [
      "/Users/dennis/anaconda3/envs/python3/lib/python3.8/site-packages/tensorflow/python/keras/engine/training.py:2325: UserWarning: `Model.state_updates` will be removed in a future version. This property should not be used in TensorFlow 2.0, as `updates` are applied automatically.\n",
      "  warnings.warn('`Model.state_updates` will be removed in a future version. '\n"
     ]
    },
    {
     "data": {
      "text/plain": [
       "<matplotlib.legend.Legend at 0x7fc0b5f89040>"
      ]
     },
     "execution_count": 7,
     "metadata": {},
     "output_type": "execute_result"
    },
    {
     "data": {
      "image/png": "[encoded data removed]",
      "text/plain": [
       "<Figure size 432x288 with 1 Axes>"
      ]
     },
     "metadata": {
      "needs_background": "light"
     },
     "output_type": "display_data"
    }
   ],
   "source": [
    "plt.scatter(energy_sim, model.predict(response_sim), label=\"Simulation\")\n",
    "plt.scatter(energy_data, model.predict(response_data), label=\"Data\")\n",
    "plt.plot([1, 2], [1, 2], color=\"r\", label=\"Identity\")\n",
    "plt.xlabel(\"Energy\")\n",
    "plt.ylabel(\"Reconstructed Energy\")\n",
    "plt.legend()"
   ]
  },
  {
   "cell_type": "markdown",
   "id": "362203ec",
   "metadata": {},
   "source": [
    "Uff that does not look to good. Our model has a large bias when being evaluated on data events."
   ]
  },
  {
   "cell_type": "markdown",
   "id": "08ee9690",
   "metadata": {},
   "source": [
    "## Refiner Setup\n",
    "We will now setup a refiner network to refine the simulation to look more data-like.\n",
    "We will use two networks (refiner & critic) which are trained in an alternating motion following an adversarial approach."
   ]
  },
  {
   "cell_type": "code",
   "execution_count": 8,
   "id": "5e2f593c",
   "metadata": {},
   "outputs": [],
   "source": [
    "from tensorflow.keras import layers\n",
    "from tensorflow.keras.models import Model\n",
    "\n",
    "def make_trainable(model, trainable):\n",
    "    \"\"\"Freezes/unfreezes the weights in the given model\"\"\"\n",
    "    for layer in model.layers:\n",
    "        layer.trainable = trainable"
   ]
  },
  {
   "cell_type": "markdown",
   "id": "e33f9d63",
   "metadata": {},
   "source": [
    "### Model Setup\n",
    "We first define the two models.\n",
    "#### Refiner\n",
    "The refiner should follow a residual architecture as it should only make small changes to the fiven simulation events. We still know that our simulation, besides being different from the data, will not be totally off.\n",
    "#### Critic\n",
    "The critic network does not have to follow a special architecture, however two things are important:\n",
    "1. We do not want to use layers which employ \"dying gradients\" (e.g. ReLU) as the critic should be able to forward feedback to the refiner network.\n",
    "2. We do not want to use an activation in the final layer of the network as the network should be able to regress the Lipschitz-1 functions which are used to infer the Wasserstein loss."
   ]
  },
  {
   "cell_type": "code",
   "execution_count": 9,
   "id": "67d7a866",
   "metadata": {},
   "outputs": [],
   "source": [
    "# define two models\n",
    "\n",
    "def residual_block(x):\n",
    "    # copy tensor to variable called x_skip\n",
    "    x_skip = x\n",
    "    # Layer 1\n",
    "    x = tf.keras.layers.Dense(30)(x)\n",
    "    x = layers.LeakyReLU(alpha=0.1)(x)\n",
    "    # Layer 2\n",
    "    x = tf.keras.layers.Dense(1)(x)\n",
    "    # Add residual\n",
    "    x = tf.keras.layers.Add()([x, x_skip])\n",
    "    x = layers.LeakyReLU(alpha=0.1)(x)\n",
    "    return x\n",
    "\n",
    "# refiner\n",
    "refiner_input = layers.Input(shape=(1))\n",
    "x = residual_block(refiner_input)\n",
    "x = residual_block(x)\n",
    "refiner_output = tf.keras.layers.Dense(1)(x)\n",
    "refiner = Model(refiner_input, refiner_output)\n",
    "\n",
    "# critic\n",
    "critic = tf.keras.Sequential(\n",
    "    layers=[\n",
    "        tf.keras.Input(shape=(1,)),\n",
    "        tf.keras.layers.Dense(30, activation=layers.LeakyReLU(alpha=0.1)),\n",
    "        tf.keras.layers.Dense(30, activation=layers.LeakyReLU(alpha=0.1)),\n",
    "        tf.keras.layers.Dense(1),\n",
    "    ]\n",
    ")"
   ]
  },
  {
   "cell_type": "markdown",
   "id": "435961db",
   "metadata": {},
   "source": [
    "### Model compilation\n",
    "The loss functions used in the refiner approach are a little bit more complicated than the loss functions used e.g. DNN driven regressions or classifications. We will define the Wasserstein loss and the gradient penalty in the following.\n",
    "\n",
    "#### Wasserstein Loss\n",
    "We use the Kantorovich-Rubinstein duality to approximate the Wasserstein distance.\n",
    "Using the Wasserstein Distance as a loss, we can compile the Refiner network."
   ]
  },
  {
   "cell_type": "code",
   "execution_count": 10,
   "id": "d1a6263d",
   "metadata": {},
   "outputs": [],
   "source": [
    "def wasserstein_loss(y_true, y_pred):\n",
    "    return KTF.mean(y_true * y_pred)\n",
    "\n",
    "# make trainings model for generator\n",
    "make_trainable(refiner, True)\n",
    "make_trainable(critic, False)  # freeze the critic during the generator training\n",
    "\n",
    "refiner_inp = layers.Input(shape=(1,), name=\"simulation_ref_training\")\n",
    "refiner_training = Model(refiner_inp, critic(refiner(refiner_inp)))\n",
    "\n",
    "refiner_training.compile(\n",
    "    optimizer=Adam(0.0001, beta_1=0.5, beta_2=0.9, decay=0.0),\n",
    "    loss=[wasserstein_loss]\n",
    ")"
   ]
  },
  {
   "cell_type": "markdown",
   "id": "56dce1ad",
   "metadata": {},
   "source": [
    "#### Gradient penalty\n",
    "The critic has to be a 1-Lipschitz function. To enforce this constrain, we are using the gradient penalty. We will just sample randomly between data events and refined events. At the randomly sampled points we will calculate the gradient of the critic network. We will penalize gradients which are not 1 quadratically. By using the gradient penalty as an additional loss term, our critic will become a Lipschitz-1 constrained function."
   ]
  },
  {
   "cell_type": "code",
   "execution_count": 11,
   "id": "078bbcfd",
   "metadata": {},
   "outputs": [],
   "source": [
    "class UniformLineSampler(tf.keras.layers.Layer):\n",
    "    def __init__(self, batch_size):\n",
    "        super().__init__()\n",
    "        self.batch_size = batch_size\n",
    "\n",
    "    def call(self, inputs, **kwargs):\n",
    "        weights = KTF.random_uniform((32, 1))\n",
    "        return (weights * inputs[0]) + ((1 - weights) * inputs[1])\n",
    "\n",
    "\n",
    "# make trainings model for critic\n",
    "make_trainable(critic, True)  # unfreeze the critic during the critic training\n",
    "make_trainable(refiner, False)  # freeze the refiner during the critic training\n",
    "\n",
    "refiner_inp = layers.Input(shape=(1,), name=\"simulation_critic_training\")\n",
    "critic_inp = layers.Input(shape=(1,), name=\"data_critic_training\")\n",
    "refiner_out = refiner(refiner_inp)\n",
    "critic_out_refined = critic(refiner_out)\n",
    "critic_out_data = critic(critic_inp)\n",
    "\n",
    "averaged_batch = UniformLineSampler(32)(\n",
    "    [critic_inp, refiner_out]\n",
    ")\n",
    "\n",
    "critic_training = Model(\n",
    "    inputs=[refiner_inp, critic_inp],\n",
    "    outputs=[\n",
    "        critic_out_refined,\n",
    "        critic_out_data,\n",
    "        averaged_batch,\n",
    "    ],\n",
    ")\n",
    "\n",
    "def gradient_penalty(y_true, averaged_batch):\n",
    "    \"\"\"Calculates the gradient penalty (for details see arXiv:1704.00028v3).\n",
    "    The 1-Lipschitz constraint for improved WGANs is enforced by adding a term to the loss which penalizes if the gradient norm in the critic unequal to 1\"\"\"\n",
    "    # y_true = dummy values\n",
    "    # y_pred will be avaraged_batch_out\n",
    "    with tf.GradientTape() as t:\n",
    "        t.watch(averaged_batch)\n",
    "        pred = critic(averaged_batch)\n",
    "    gradients = t.gradient(pred, averaged_batch)\n",
    "    gradient_penalty = 0.01 * KTF.square(1 - gradients)\n",
    "    return KTF.mean(gradient_penalty)\n",
    "    \n",
    "gradient_penalty.__name__ = \"gradient_penalty\"\n",
    "critic_training.compile(\n",
    "    optimizer=Adam(0.0001, beta_1=0.5, beta_2=0.9, decay=0.0),\n",
    "    loss=[wasserstein_loss, wasserstein_loss, gradient_penalty],\n",
    ")"
   ]
  },
  {
   "cell_type": "markdown",
   "id": "bc9f213d",
   "metadata": {},
   "source": [
    "### Refiner Training\n",
    "Using an alternating training schedule we will train the refiner and the critic in the following. Note that the two are encapsulated in different `tf.keras` models in which the correct parts of the models are already frozen. Such we do not need to freeze or unfreeze the refiner and critic parts during the training. We will also plot the critic model during the training process to see how it develops."
   ]
  },
  {
   "cell_type": "code",
   "execution_count": 12,
   "id": "667b8249",
   "metadata": {},
   "outputs": [
    {
     "name": "stdout",
     "output_type": "stream",
     "text": [
      "epoch:  0\n",
      "WARNING:tensorflow:Discrepancy between trainable weights and collected trainable weights, did you set `model.trainable` without calling `model.compile` after ?\n",
      "epoch:  1\n",
      "epoch:  2\n",
      "epoch:  3\n",
      "epoch:  4\n",
      "epoch:  5\n",
      "epoch:  6\n",
      "epoch:  7\n",
      "epoch:  8\n",
      "epoch:  9\n",
      "epoch:  10\n",
      "epoch:  11\n",
      "epoch:  12\n",
      "epoch:  13\n",
      "epoch:  14\n",
      "epoch:  15\n",
      "epoch:  16\n",
      "epoch:  17\n",
      "epoch:  18\n",
      "epoch:  19\n",
      "epoch:  20\n",
      "epoch:  21\n",
      "epoch:  22\n",
      "epoch:  23\n",
      "epoch:  24\n",
      "epoch:  25\n",
      "epoch:  26\n",
      "epoch:  27\n",
      "epoch:  28\n",
      "epoch:  29\n",
      "epoch:  30\n",
      "epoch:  31\n",
      "epoch:  32\n",
      "epoch:  33\n",
      "epoch:  34\n",
      "epoch:  35\n",
      "epoch:  36\n",
      "epoch:  37\n",
      "epoch:  38\n",
      "epoch:  39\n",
      "epoch:  40\n",
      "epoch:  41\n",
      "epoch:  42\n",
      "epoch:  43\n",
      "epoch:  44\n",
      "epoch:  45\n",
      "epoch:  46\n",
      "epoch:  47\n",
      "epoch:  48\n",
      "epoch:  49\n"
     ]
    },
    {
     "data": {
      "image/png": "[encoded data removed]",
      "text/plain": [
       "<Figure size 432x288 with 1 Axes>"
      ]
     },
     "metadata": {
      "needs_background": "light"
     },
     "output_type": "display_data"
    }
   ],
   "source": [
    "# for wasserstein loss\n",
    "positive_y = np.ones(32)\n",
    "negative_y = -positive_y\n",
    "dummy = np.zeros(32)\n",
    "\n",
    "# trainings loop\n",
    "N = 100000\n",
    "NCR = 2\n",
    "BATCH_SIZE = 32\n",
    "iterations_per_epoch = N // ((NCR + 1) * BATCH_SIZE)\n",
    "\n",
    "refiner_loss = []\n",
    "critic_loss = []\n",
    "\n",
    "for epoch in range(50):\n",
    "    print(\"epoch: \", epoch)\n",
    "    plt.plot(x_range, critic.predict(x_range))\n",
    "    for iteration in range(iterations_per_epoch):\n",
    "        for j in range(NCR):\n",
    "            # get simulation data for refiner\n",
    "            simulation_batch = response_sim_train[BATCH_SIZE * (j + iteration) : BATCH_SIZE * (j + iteration + 1)]\n",
    "            # get real data\n",
    "            data_batch = response_data_train[BATCH_SIZE * (j + iteration) : BATCH_SIZE * (j + iteration + 1)]\n",
    "            \n",
    "            # train critic\n",
    "            _critic_loss = critic_training.train_on_batch(\n",
    "                [simulation_batch, data_batch],\n",
    "                [negative_y, positive_y, dummy]\n",
    "            )\n",
    "            critic_loss.append(_critic_loss)\n",
    "\n",
    "        # refiner training\n",
    "        simulation_batch = response_sim_train[BATCH_SIZE * (j + iteration) : BATCH_SIZE * (j + iteration + 1)]\n",
    "        _refiner_loss = refiner_training.train_on_batch([simulation_batch], [positive_y])\n",
    "        refiner_loss.append(_refiner_loss)"
   ]
  },
  {
   "cell_type": "markdown",
   "id": "e4ed49f6",
   "metadata": {},
   "source": [
    "### Plot Training Critic\n",
    "\n",
    "The training process of the critic involves the Wasserstein Loss and the Gradients Loss. The loss functions are so noisy because we are not optimizing towards a steady minimum but towards a changing minimum in the form of the discriminator.\n",
    "\n",
    "Critic and Refiner are competing agains each other in a game-theory-like Minimax game."
   ]
  },
  {
   "cell_type": "code",
   "execution_count": 13,
   "id": "3123b48d",
   "metadata": {},
   "outputs": [
    {
     "data": {
      "text/plain": [
       "Text(0, 0.5, 'Loss')"
      ]
     },
     "execution_count": 13,
     "metadata": {},
     "output_type": "execute_result"
    },
    {
     "data": {
      "image/png": "[encoded data removed]",
      "text/plain": [
       "<Figure size 720x288 with 1 Axes>"
      ]
     },
     "metadata": {
      "needs_background": "light"
     },
     "output_type": "display_data"
    }
   ],
   "source": [
    "# plot critic loss\n",
    "fig, ax1 = plt.subplots(1, figsize=(10, 4))\n",
    "epoch = np.arange(len(critic_loss))\n",
    "loss = np.array(critic_loss)\n",
    "plt.plot(epoch, loss[:, 0], label=\"Total\")\n",
    "plt.plot(epoch, loss[:, 1] + loss[:, 2], label=\"Wasserstein\")\n",
    "plt.plot(epoch, loss[:, 3], label=\"Gradient\")  \n",
    "plt.legend()\n",
    "ax1.set_xlabel(\"Iterations\")\n",
    "ax1.set_ylabel(\"Loss\")"
   ]
  },
  {
   "cell_type": "markdown",
   "id": "94c65eff",
   "metadata": {},
   "source": [
    "### Plot Training Refiner\n",
    "\n",
    "The training process of the refiner involves the Wasserstein Loss.\n",
    "Its loss depends on the current state of the critic."
   ]
  },
  {
   "cell_type": "code",
   "execution_count": 14,
   "id": "8ea79e4e",
   "metadata": {},
   "outputs": [
    {
     "data": {
      "text/plain": [
       "Text(0, 0.5, 'Loss')"
      ]
     },
     "execution_count": 14,
     "metadata": {},
     "output_type": "execute_result"
    },
    {
     "data": {
      "image/png": "[encoded data removed]",
      "text/plain": [
       "<Figure size 720x288 with 1 Axes>"
      ]
     },
     "metadata": {
      "needs_background": "light"
     },
     "output_type": "display_data"
    }
   ],
   "source": [
    "# plot refiner loss\n",
    "fig, ax1 = plt.subplots(1, figsize=(10, 4))\n",
    "epoch = np.arange(len(refiner_loss))\n",
    "loss = np.array(refiner_loss)\n",
    "plt.plot(epoch, loss, label=\"Total\")\n",
    "plt.legend()\n",
    "ax1.set_xlabel(\"Iterations\")\n",
    "ax1.set_ylabel(\"Loss\")"
   ]
  },
  {
   "cell_type": "markdown",
   "id": "51528fea",
   "metadata": {},
   "source": [
    "## Results\n",
    "\n",
    "Now that we have trained our refiner network in the adversarial approach, we can look at some results.\n",
    "\n",
    "We will first plot histograms of the response in the three datasets:\n",
    "* Recorded data (`data`)\n",
    "* Generated simulation (`sim`)\n",
    "* Refined simulation (`refiner.predict(sim)`)\n",
    "\n",
    "We can see that the overall behaviour of the response in the refined simulation is much more data-like."
   ]
  },
  {
   "cell_type": "code",
   "execution_count": 15,
   "id": "ea2ca609",
   "metadata": {},
   "outputs": [
    {
     "name": "stderr",
     "output_type": "stream",
     "text": [
      "/Users/dennis/anaconda3/envs/python3/lib/python3.8/site-packages/tensorflow/python/keras/engine/training.py:2325: UserWarning: `Model.state_updates` will be removed in a future version. This property should not be used in TensorFlow 2.0, as `updates` are applied automatically.\n",
      "  warnings.warn('`Model.state_updates` will be removed in a future version. '\n"
     ]
    },
    {
     "data": {
      "text/plain": [
       "(array([3593., 3795., 4100., 4410., 4833., 5043., 5533., 5797., 6243.,\n",
       "        6653.]),\n",
       " array([0.28341216, 0.3519184 , 0.42042464, 0.48893085, 0.5574371 ,\n",
       "        0.6259433 , 0.69444954, 0.7629558 , 0.831462  , 0.89996827,\n",
       "        0.9684745 ], dtype=float32),\n",
       " <BarContainer object of 10 artists>)"
      ]
     },
     "execution_count": 15,
     "metadata": {},
     "output_type": "execute_result"
    },
    {
     "data": {
      "image/png": "[encoded data removed]",
      "text/plain": [
       "<Figure size 432x288 with 1 Axes>"
      ]
     },
     "metadata": {
      "needs_background": "light"
     },
     "output_type": "display_data"
    }
   ],
   "source": [
    "plt.hist(response_data_val, alpha=0.5, label=\"Data\")\n",
    "plt.hist(response_sim_val, alpha=0.5, label=\"Simulation\")\n",
    "plt.hist(refiner.predict(response_sim_val), alpha=0.5, label=\"Refined Simulation\")"
   ]
  },
  {
   "cell_type": "markdown",
   "id": "21496b91",
   "metadata": {},
   "source": [
    "## Train Regression (with Refinement)\n",
    "We can now use the refined simulation to train the same regression as bevore on the (refined) data-like simulation.\n",
    "We will use the same network architecture, optimizer and training parameters as before."
   ]
  },
  {
   "cell_type": "code",
   "execution_count": 16,
   "id": "c67df89d",
   "metadata": {},
   "outputs": [],
   "source": [
    "simulation_inp = layers.Input(shape=(1,), name=\"simulation_inp\")\n",
    "refined_simulation_inp = refiner(simulation_inp)\n",
    "model = tf.keras.Sequential(\n",
    "    layers=[\n",
    "        tf.keras.Input(shape=(1,)),\n",
    "        tf.keras.layers.Dense(30, activation=\"relu\"),\n",
    "        tf.keras.layers.Dense(30, activation=\"relu\"),\n",
    "        tf.keras.layers.Dense(1),\n",
    "    ]\n",
    ")\n",
    "\n",
    "model_training = Model(\n",
    "    inputs=simulation_inp,\n",
    "    outputs=model(refined_simulation_inp),\n",
    ")\n",
    "\n",
    "\n",
    "model_training.compile(optimizer=\"adam\", loss=\"mse\", metrics=[\"mse\"])"
   ]
  },
  {
   "cell_type": "code",
   "execution_count": 17,
   "id": "f2cdb598",
   "metadata": {},
   "outputs": [
    {
     "name": "stdout",
     "output_type": "stream",
     "text": [
      "Train on 150000 samples\n",
      "Epoch 1/5\n",
      "150000/150000 [==============================] - 1s 4us/sample - loss: 0.1446 - mse: 0.1446\n",
      "Epoch 2/5\n",
      "150000/150000 [==============================] - 1s 3us/sample - loss: 7.2648e-04 - mse: 7.2648e-04\n",
      "Epoch 3/5\n",
      "150000/150000 [==============================] - 1s 4us/sample - loss: 6.5610e-04 - mse: 6.5610e-04\n",
      "Epoch 4/5\n",
      "150000/150000 [==============================] - 1s 3us/sample - loss: 6.5474e-04 - mse: 6.5474e-04\n",
      "Epoch 5/5\n",
      "150000/150000 [==============================] - 1s 3us/sample - loss: 6.5491e-04 - mse: 6.5491e-04\n"
     ]
    },
    {
     "data": {
      "text/plain": [
       "<tensorflow.python.keras.callbacks.History at 0x7fc0b61ad760>"
      ]
     },
     "execution_count": 17,
     "metadata": {},
     "output_type": "execute_result"
    }
   ],
   "source": [
    "model_training.fit(response_sim, energy_sim, batch_size=256, epochs=5)"
   ]
  },
  {
   "cell_type": "markdown",
   "id": "adea58d7",
   "metadata": {},
   "source": [
    "We now have our new regressor. We can make the same test as before and evaluate the regression which was trained on the refined simulation of the data events.\n",
    "\n",
    "We see a success!\n",
    "The network is now able to nicely infer the energy in the recorded data events.\n",
    "The bias that we saw before has become much smaller.\n",
    "\n",
    "Can you train the refinder such that the bias vanishes completely?"
   ]
  },
  {
   "cell_type": "code",
   "execution_count": 18,
   "id": "f583f384",
   "metadata": {},
   "outputs": [
    {
     "data": {
      "text/plain": [
       "<matplotlib.legend.Legend at 0x7fc0bb3c3d30>"
      ]
     },
     "execution_count": 18,
     "metadata": {},
     "output_type": "execute_result"
    },
    {
     "data": {
      "image/png": "[encoded data removed]",
      "text/plain": [
       "<Figure size 432x288 with 1 Axes>"
      ]
     },
     "metadata": {
      "needs_background": "light"
     },
     "output_type": "display_data"
    }
   ],
   "source": [
    "plt.scatter(energy_data_val, model.predict(response_data_val), label=\"Data\")\n",
    "plt.plot([1, 2], [1, 2], color=\"r\", label=\"Identity\")\n",
    "plt.xlabel(\"Energy\")\n",
    "plt.ylabel(\"Reconstructed Energy\")\n",
    "plt.legend()"
   ]
  },
  {
   "cell_type": "markdown",
   "id": "9d4d19c8",
   "metadata": {},
   "source": [
    "## Summary\n",
    "This concludes our tutorial on the refiner.\n",
    "\n",
    "You have learned:\n",
    "* How and why we get a bias when our training data (simulations) does not follow our evaluation data (recorded data)\n",
    "* What the Wasserstein Distance is and how to implement it\n",
    "* What the Gradient penalty is and how to implement it\n",
    "* How we can train a refiner network to mitigate differences between the training and the evaluation data\n",
    "* How with this refinder network we can solve the problem of insufficient data-simulation modelling when training regression task"
   ]
  },
  {
   "cell_type": "code",
   "execution_count": null,
   "id": "84d342fc",
   "metadata": {},
   "outputs": [],
   "source": []
  }
 ],
 "metadata": {
  "kernelspec": {
   "display_name": "Python 3 (ipykernel)",
   "language": "python",
   "name": "python3"
  },
  "language_info": {
   "codemirror_mode": {
    "name": "ipython",
    "version": 3
   },
   "file_extension": ".py",
   "mimetype": "text/x-python",
   "name": "python",
   "nbconvert_exporter": "python",
   "pygments_lexer": "ipython3",
   "version": "3.8.8"
  }
 },
 "nbformat": 4,
 "nbformat_minor": 5
}
